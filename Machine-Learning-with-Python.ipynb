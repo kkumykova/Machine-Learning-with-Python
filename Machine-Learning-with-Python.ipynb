{
 "cells": [
  {
   "attachments": {},
   "cell_type": "markdown",
   "metadata": {},
   "source": [
    "I. ML = desires output + data to desired to rules.\n",
    "A computer uses data to write its own programm.\n",
    "We help the computer just enouph to help find the rules.\n",
    "We don't tell the cumputer the rules explicetly.\n",
    "There are five main schools of ML:\n",
    "1. Decion Trees (reasoning with symbols)\n",
    "2. Neural Networks incl. perceptron, deep networks (analyzing perceptual information)\n",
    "3. Bayesian Networks (managing uncertainty)\n",
    "4. Genetic programs (discovering new structures)\n",
    "5. Nearest neighborurs (exploiting similarities)\n",
    "The five can and should work together.\n",
    "Decision trees are used for medical diagnosis.\n",
    "Deep networks have three layers.\n",
    "Bayesian Networks assign probabilieties to diagnocis."
   ]
  },
  {
   "attachments": {},
   "cell_type": "markdown",
   "metadata": {},
   "source": [
    "II. Find a way to evaluate the rule.\n",
    "We need a scoring function - a loss function - calculates how accurate the rules is based on the data.\n",
    "Scores can be used indirectly to define the rule."
   ]
  },
  {
   "attachments": {},
   "cell_type": "markdown",
   "metadata": {},
   "source": [
    "III. Three components of ML\n",
    "1. represent - representational space\n",
    "2. evaluate - loss function on data\n",
    "3. select - optimiser\n",
    "Optimiser selects the rule with the best available score from the representational space.\n",
    "Some loss functions penalise a rule based on its complexity.\n",
    "Loss functions assigning the scores to evaluate each candidate's rules.\n",
    "What ML does is to approximatelly optimise loss over the representational space."
   ]
  },
  {
   "attachments": {},
   "cell_type": "markdown",
   "metadata": {},
   "source": [
    "Basic recipe for ML program:\n",
    "1. choose a representational space\n",
    "2. design a loss function that uses dta to score potential rules\n",
    "3. run an optimiser that selects the rule in the representational space with the approximatelly best score.\n",
    "\n",
    "ML turns data into rules."
   ]
  }
 ],
 "metadata": {
  "language_info": {
   "name": "python"
  },
  "orig_nbformat": 4
 },
 "nbformat": 4,
 "nbformat_minor": 2
}
